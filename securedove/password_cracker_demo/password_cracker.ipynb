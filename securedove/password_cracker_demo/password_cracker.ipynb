{
 "cells": [
  {
   "cell_type": "markdown",
   "metadata": {},
   "source": [
    "<h1> Demo - Easily Cracking Short Passwords </h1>"
   ]
  },
  {
   "cell_type": "code",
   "execution_count": 22,
   "metadata": {},
   "outputs": [],
   "source": [
    "# import required libraries to perform demo\n",
    "import random\n",
    "import string\n",
    "import itertools"
   ]
  },
  {
   "cell_type": "code",
   "execution_count": 25,
   "metadata": {},
   "outputs": [],
   "source": [
    "# set character set to lower and upper case letters + numbers 0-9\n",
    "avail_chars = string.ascii_letters + \"0123456789\""
   ]
  },
  {
   "cell_type": "code",
   "execution_count": 26,
   "metadata": {},
   "outputs": [
    {
     "name": "stdout",
     "output_type": "stream",
     "text": [
      "abcdefghijklmnopqrstuvwxyzABCDEFGHIJKLMNOPQRSTUVWXYZ0123456789\n"
     ]
    }
   ],
   "source": [
    "# check character set results\n",
    "print(avail_chars)"
   ]
  },
  {
   "cell_type": "markdown",
   "metadata": {},
   "source": [
    "<h2> Method 1: Randomly guessing a password that matches in legnth </h2>"
   ]
  },
  {
   "cell_type": "code",
   "execution_count": 41,
   "metadata": {},
   "outputs": [],
   "source": [
    "# create function that randomly creates a password from a character set provided and compares it to the entered password\n",
    "# allows repeats, follows no methodology (i.e. it's all random)\n",
    "def rand_crack_pass(char_set, password):\n",
    "    guess = \"\"\n",
    "    attempts = 0\n",
    "    while (guess != password):\n",
    "        guess = ''.join(random.choices(char_set, k=len(password)))\n",
    "        attempts += 1\n",
    "        if (guess == password):\n",
    "            return attempts,guess"
   ]
  },
  {
   "cell_type": "code",
   "execution_count": 42,
   "metadata": {},
   "outputs": [
    {
     "name": "stdout",
     "output_type": "stream",
     "text": [
      "Password:  test\n",
      "Attempts:  26087849\n"
     ]
    }
   ],
   "source": [
    "attempts, guess = rand_crack_pass(avail_chars, \"test\")\n",
    "print(\"Password: \", guess)\n",
    "print(\"Attempts: \", attempts)"
   ]
  },
  {
   "cell_type": "markdown",
   "metadata": {},
   "source": [
    "<h3> Result: </h3>\n",
    "<p> While much less efficient than the choice represented below, it is still very possible to crack a short password by randomly guessing. There's always the chance that the first random guess will match the actual password; however, the probability of this ocurring goes down drastically as password length increases. </p>"
   ]
  },
  {
   "cell_type": "markdown",
   "metadata": {},
   "source": [
    "<h2> Method 2: Generating every possible password and comparing (in order, no repeats) </h2>"
   ]
  },
  {
   "cell_type": "code",
   "execution_count": 45,
   "metadata": {},
   "outputs": [],
   "source": [
    "\n",
    "# generates every possible password of the specified length in order based on the provided character set\n",
    "def crack_password(char_set, password):\n",
    "    count = 0\n",
    "    for item in itertools.product(char_set, repeat=len(password)):\n",
    "        guess = ''.join(item)\n",
    "        count += 1\n",
    "        if (guess == password):\n",
    "            return count,guess"
   ]
  },
  {
   "cell_type": "markdown",
   "metadata": {},
   "source": [
    "<p>Testing the same password that we did with the random method above </p>"
   ]
  },
  {
   "cell_type": "code",
   "execution_count": 46,
   "metadata": {},
   "outputs": [
    {
     "name": "stdout",
     "output_type": "stream",
     "text": [
      "Password:  test\n",
      "Attempts:  4544744\n"
     ]
    }
   ],
   "source": [
    "# call function and print results\n",
    "attempts, guess = crack_password(avail_chars, \"test\")\n",
    "print(\"Password: \", guess)\n",
    "print(\"Attempts: \", attempts)"
   ]
  },
  {
   "cell_type": "markdown",
   "metadata": {},
   "source": [
    "<p> <b>Outcome: </b> Significantly more effective at cracking a 4 character password </p>"
   ]
  },
  {
   "cell_type": "markdown",
   "metadata": {},
   "source": [
    "<p> Testing 5 character passwords </p>"
   ]
  },
  {
   "cell_type": "code",
   "execution_count": 48,
   "metadata": {},
   "outputs": [
    {
     "name": "stdout",
     "output_type": "stream",
     "text": [
      "Password:  pass1\n",
      "Attempts:  221715402\n"
     ]
    }
   ],
   "source": [
    "# call function and print results\n",
    "attempts, guess = crack_password(avail_chars, \"pass1\") # pass1 is an actual password that we use in our database\n",
    "print(\"Password: \", guess)\n",
    "print(\"Attempts: \", attempts)"
   ]
  },
  {
   "cell_type": "markdown",
   "metadata": {},
   "source": [
    "<p> Testing 6 character passwords </p>"
   ]
  },
  {
   "cell_type": "code",
   "execution_count": 49,
   "metadata": {},
   "outputs": [
    {
     "name": "stdout",
     "output_type": "stream",
     "text": [
      "Password:  azi2c4\n",
      "Attempts:  371522781\n"
     ]
    }
   ],
   "source": [
    "# call function and print results\n",
    "attempts, guess = crack_password(avail_chars, \"azi2c4\")\n",
    "print(\"Password: \", guess)\n",
    "print(\"Attempts: \", attempts)"
   ]
  },
  {
   "cell_type": "markdown",
   "metadata": {},
   "source": [
    "<h3> Result: </h3>\n",
    "<p> This method of cracking generates every possible password from the character set that matches in length and compares it to the given password. As the character set grows, the number of passwords to generate increases, as well as the time to crack. Another way to prevent this type of attack is to increase the character set. This is why many websites require users to include special characters, numbers, and capital letters in their passwords during creation. </p>"
   ]
  },
  {
   "cell_type": "code",
   "execution_count": null,
   "metadata": {},
   "outputs": [],
   "source": [
    "!jupyter nbconvert --to html password_cracker.ipynb"
   ]
  }
 ],
 "metadata": {
  "kernelspec": {
   "display_name": "Python 3",
   "language": "python",
   "name": "python3"
  },
  "language_info": {
   "codemirror_mode": {
    "name": "ipython",
    "version": 3
   },
   "file_extension": ".py",
   "mimetype": "text/x-python",
   "name": "python",
   "nbconvert_exporter": "python",
   "pygments_lexer": "ipython3",
   "version": "3.10.11"
  }
 },
 "nbformat": 4,
 "nbformat_minor": 2
}
